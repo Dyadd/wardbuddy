{
 "cells": [
  {
   "cell_type": "code",
   "execution_count": null,
   "id": "ecaeafe7-8cef-4117-8b58-bcf774175b88",
   "metadata": {},
   "outputs": [],
   "source": [
    "#| default_exp utils"
   ]
  },
  {
   "cell_type": "markdown",
   "id": "95ff67c2-a1a7-4c35-b704-f0a8beb6822e",
   "metadata": {},
   "source": [
    "# Utils\n",
    "\n",
    "> Shared utilities for the entire learning system"
   ]
  },
  {
   "cell_type": "markdown",
   "id": "1ceb8d6e-dbdf-4d3c-8956-7686284d9b9d",
   "metadata": {},
   "source": [
    "## Setup"
   ]
  },
  {
   "cell_type": "code",
   "execution_count": null,
   "id": "25924b5e-01c9-44ca-a519-d399cf44ef07",
   "metadata": {},
   "outputs": [],
   "source": [
    "#| hide\n",
    "from nbdev.showdoc import show_doc"
   ]
  },
  {
   "cell_type": "code",
   "execution_count": null,
   "id": "5c3c4745-4603-49be-8394-3c16237e18bf",
   "metadata": {},
   "outputs": [],
   "source": [
    "#| export\n",
    "from typing import Dict, List, Optional, Any, Tuple\n",
    "import json\n",
    "from pathlib import Path"
   ]
  },
  {
   "cell_type": "markdown",
   "id": "26603641-e577-4c99-a2b4-34e77a79005b",
   "metadata": {},
   "source": [
    "## Utilities"
   ]
  },
  {
   "cell_type": "code",
   "execution_count": null,
   "id": "57250b78-2f73-4270-8d6e-87e262987af8",
   "metadata": {},
   "outputs": [],
   "source": [
    "#| export\n",
    "def format_response(response: Dict[str, Any]) -> str:\n",
    "    \"\"\"\n",
    "    Format tutor response for display.\n",
    "    \n",
    "    Args:\n",
    "        response: Raw response dictionary\n",
    "        \n",
    "    Returns:\n",
    "        str: Formatted response text\n",
    "    \"\"\"\n",
    "    parts = []\n",
    "    \n",
    "    if 'feedback' in response:\n",
    "        parts.append(f\"Feedback:\\n{response['feedback']}\")\n",
    "    \n",
    "    if 'learning_points' in response:\n",
    "        points = '\\n'.join(f'• {point}' for point in response['learning_points'])\n",
    "        parts.append(f\"\\nKey Learning Points:\\n{points}\")\n",
    "    \n",
    "    if 'suggestions' in response:\n",
    "        suggestions = '\\n'.join(f'• {s}' for s in response['suggestions'])\n",
    "        parts.append(f\"\\nSuggestions:\\n{suggestions}\")\n",
    "    \n",
    "    if 'connections' in response and response['connections']:\n",
    "        connections = '\\n'.join(f'• {c}' for c in response['connections'])\n",
    "        parts.append(f\"\\nConnections to Previous Cases:\\n{connections}\")\n",
    "    \n",
    "    return '\\n\\n'.join(parts)"
   ]
  },
  {
   "cell_type": "code",
   "execution_count": null,
   "id": "d3dd051f-4352-4c03-b594-9fbfcbb0b47a",
   "metadata": {},
   "outputs": [],
   "source": [
    "#| export\n",
    "def load_json_safely(path: Path) -> Dict:\n",
    "    \"\"\"\n",
    "    Safely load JSON file with error handling.\n",
    "    \n",
    "    Args:\n",
    "        path: Path to JSON file\n",
    "        \n",
    "    Returns:\n",
    "        dict: Loaded JSON data\n",
    "        \n",
    "    Raises:\n",
    "        ValueError: If file is invalid\n",
    "    \"\"\"\n",
    "    try:\n",
    "        with open(path, 'r') as f:\n",
    "            return json.load(f)\n",
    "    except json.JSONDecodeError as e:\n",
    "        raise ValueError(f\"Invalid JSON file: {str(e)}\")\n",
    "    except Exception as e:\n",
    "        raise ValueError(f\"Error loading file: {str(e)}\")"
   ]
  },
  {
   "cell_type": "markdown",
   "id": "35c98021-745a-441b-8abf-4f4ee5468e1b",
   "metadata": {},
   "source": [
    "## Tests"
   ]
  },
  {
   "cell_type": "code",
   "execution_count": null,
   "id": "e09d2392-e5c4-4dbf-b784-be0acb1fb8fc",
   "metadata": {},
   "outputs": [],
   "source": [
    "def test_utils():\n",
    "    \"\"\"Test utility functions\"\"\"\n",
    "    # Test response formatting\n",
    "    test_response = {\n",
    "        'feedback': 'Good presentation',\n",
    "        'learning_points': ['Point 1', 'Point 2'],\n",
    "        'suggestions': ['Suggestion 1'],\n",
    "        'connections': ['Connection 1']\n",
    "    }\n",
    "    \n",
    "    formatted = format_response(test_response)\n",
    "    assert 'Feedback:' in formatted\n",
    "    assert 'Point 1' in formatted\n",
    "    assert 'Suggestion 1' in formatted\n",
    "    \n",
    "    # Test JSON loading\n",
    "    test_path = Path('test.json')\n",
    "    test_data = {'test': 'data'}\n",
    "    \n",
    "    with open(test_path, 'w') as f:\n",
    "        json.dump(test_data, f)\n",
    "    \n",
    "    loaded = load_json_safely(test_path)\n",
    "    assert loaded == test_data\n",
    "    \n",
    "    test_path.unlink()\n",
    "    \n",
    "    print(\"Utility tests passed!\")"
   ]
  },
  {
   "cell_type": "code",
   "execution_count": null,
   "id": "3983ae3e-854b-4587-8691-9373f3551b45",
   "metadata": {},
   "outputs": [
    {
     "name": "stdout",
     "output_type": "stream",
     "text": [
      "Utility tests passed!\n"
     ]
    }
   ],
   "source": [
    "# Run tests\n",
    "if __name__ == \"__main__\":\n",
    "    test_utils()"
   ]
  },
  {
   "cell_type": "code",
   "execution_count": null,
   "id": "e91d5138-1ca0-4057-8a13-af0b89dc0a93",
   "metadata": {},
   "outputs": [],
   "source": []
  }
 ],
 "metadata": {
  "kernelspec": {
   "display_name": "python3",
   "language": "python",
   "name": "python3"
  }
 },
 "nbformat": 4,
 "nbformat_minor": 5
}
