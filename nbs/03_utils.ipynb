{
 "cells": [
  {
   "cell_type": "code",
   "execution_count": null,
   "id": "ecaeafe7-8cef-4117-8b58-bcf774175b88",
   "metadata": {},
   "outputs": [],
   "source": [
    "#| default_exp utils"
   ]
  },
  {
   "cell_type": "markdown",
   "id": "95ff67c2-a1a7-4c35-b704-f0a8beb6822e",
   "metadata": {},
   "source": [
    "# Utils\n",
    "\n",
    "> Shared utilities for the entire learning system"
   ]
  },
  {
   "cell_type": "markdown",
   "id": "1ceb8d6e-dbdf-4d3c-8956-7686284d9b9d",
   "metadata": {},
   "source": [
    "## Setup"
   ]
  },
  {
   "cell_type": "code",
   "execution_count": null,
   "id": "25924b5e-01c9-44ca-a519-d399cf44ef07",
   "metadata": {},
   "outputs": [],
   "source": [
    "#| hide\n",
    "from nbdev.showdoc import show_doc"
   ]
  },
  {
   "cell_type": "code",
   "execution_count": null,
   "id": "5c3c4745-4603-49be-8394-3c16237e18bf",
   "metadata": {},
   "outputs": [],
   "source": [
    "#| export\n",
    "from typing import Dict, List, Optional, Any, Tuple\n",
    "import json\n",
    "from pathlib import Path\n",
    "import logging\n",
    "from datetime import datetime"
   ]
  },
  {
   "cell_type": "markdown",
   "id": "26603641-e577-4c99-a2b4-34e77a79005b",
   "metadata": {},
   "source": [
    "## Utilities"
   ]
  },
  {
   "cell_type": "code",
   "execution_count": null,
   "id": "59cefaf9-f6b2-4617-bd16-c0ed068d400c",
   "metadata": {},
   "outputs": [],
   "source": [
    "#| export\n",
    "def setup_logger(name: str) -> logging.Logger:\n",
    "    \"\"\"Set up module logger with consistent formatting\"\"\"\n",
    "    logger = logging.getLogger(name)\n",
    "    if not logger.handlers:\n",
    "        handler = logging.StreamHandler()\n",
    "        handler.setFormatter(\n",
    "            logging.Formatter('%(asctime)s - %(name)s - %(levelname)s - %(message)s')\n",
    "        )\n",
    "        logger.addHandler(handler)\n",
    "        logger.setLevel(logging.INFO)\n",
    "    return logger\n",
    "\n",
    "logger = setup_logger(__name__)"
   ]
  },
  {
   "cell_type": "code",
   "execution_count": null,
   "id": "86982e56-5813-4684-a557-a6509a3a4de0",
   "metadata": {},
   "outputs": [],
   "source": [
    "#| export\n",
    "def load_context_safely(path: Path) -> Dict:\n",
    "    \"\"\"\n",
    "    Safely load learning context from JSON file.\n",
    "    \n",
    "    Args:\n",
    "        path: Path to context file\n",
    "        \n",
    "    Returns:\n",
    "        dict: Loaded context data\n",
    "        \n",
    "    Raises:\n",
    "        ValueError: If file is invalid or inaccessible\n",
    "    \"\"\"\n",
    "    try:\n",
    "        with open(path, 'r') as f:\n",
    "            return json.load(f)\n",
    "    except json.JSONDecodeError as e:\n",
    "        raise ValueError(f\"Invalid context file format: {str(e)}\")\n",
    "    except Exception as e:\n",
    "        raise ValueError(f\"Error loading context file: {str(e)}\")"
   ]
  },
  {
   "cell_type": "code",
   "execution_count": null,
   "id": "ae53b367-4ca7-4c00-bed6-a6ff3dcf93cc",
   "metadata": {},
   "outputs": [],
   "source": [
    "#| export\n",
    "def save_context_safely(context: Dict, path: Path) -> None:\n",
    "    \"\"\"\n",
    "    Safely save learning context to JSON file.\n",
    "    \n",
    "    Args:\n",
    "        context: Context data to save\n",
    "        path: Path to save file\n",
    "        \n",
    "    Raises:\n",
    "        ValueError: If save operation fails\n",
    "    \"\"\"\n",
    "    try:\n",
    "        with open(path, 'w') as f:\n",
    "            json.dump(context, f, indent=2)\n",
    "    except Exception as e:\n",
    "        raise ValueError(f\"Error saving context: {str(e)}\")"
   ]
  },
  {
   "cell_type": "markdown",
   "id": "35c98021-745a-441b-8abf-4f4ee5468e1b",
   "metadata": {},
   "source": [
    "## Tests"
   ]
  },
  {
   "cell_type": "code",
   "execution_count": null,
   "id": "e09d2392-e5c4-4dbf-b784-be0acb1fb8fc",
   "metadata": {},
   "outputs": [],
   "source": [
    "def test_utils():\n",
    "    \"\"\"Test utility functions\"\"\"\n",
    "    # Test logger setup\n",
    "    test_logger = setup_logger(\"test\")\n",
    "    assert test_logger.level == logging.INFO\n",
    "    assert len(test_logger.handlers) == 1\n",
    "    \n",
    "    # Test context loading/saving\n",
    "    test_path = Path(\"test_context.json\")\n",
    "    test_data = {\n",
    "        \"current_rotation\": {\"specialty\": \"ED\"},\n",
    "        \"learning_objectives\": [],\n",
    "        \"knowledge_profile\": {\"gaps\": {}, \"strengths\": []}\n",
    "    }\n",
    "    \n",
    "    # Test save\n",
    "    save_context_safely(test_data, test_path)\n",
    "    assert test_path.exists()\n",
    "    \n",
    "    # Test load\n",
    "    loaded = load_context_safely(test_path)\n",
    "    assert loaded == test_data\n",
    "    \n",
    "    # Cleanup\n",
    "    test_path.unlink()\n",
    "    \n",
    "    print(\"Utility tests passed!\")\n",
    "\n",
    "# Run tests\n",
    "if __name__ == \"__main__\":\n",
    "    test_utils()"
   ]
  },
  {
   "cell_type": "code",
   "execution_count": null,
   "id": "e91d5138-1ca0-4057-8a13-af0b89dc0a93",
   "metadata": {},
   "outputs": [],
   "source": []
  }
 ],
 "metadata": {
  "kernelspec": {
   "display_name": "python3",
   "language": "python",
   "name": "python3"
  }
 },
 "nbformat": 4,
 "nbformat_minor": 5
}
